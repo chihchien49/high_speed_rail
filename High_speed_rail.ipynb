{
 "cells": [
  {
   "cell_type": "code",
   "execution_count": null,
   "metadata": {},
   "outputs": [],
   "source": [
    "from selenium import webdriver\n",
    "from time import sleep\n",
    "from bs4 import BeautifulSoup\n",
    "from selenium.webdriver.support.ui import WebDriverWait\n",
    "import re\n",
    "from selenium.webdriver.support import expected_conditions as EC\n",
    "from selenium.webdriver.common.by import By\n",
    "browser=webdriver.Chrome()\n",
    "browser.get('https://en.thsrc.com.tw/')\n",
    "browser.maximize_window()\n",
    "browser.find_element_by_xpath(\"/html/body/div[5]/div/div[3]/button[2]\").click() \n",
    "browser.find_element_by_id('select_location01').send_keys('Hsinchu')\n",
    "browser.find_element_by_id('select_location02').send_keys('Taipei')\n",
    "browser.find_element_by_id('typesofticket').send_keys('One-Way')\n",
    "browser.find_element_by_id('Departdate01').send_keys('2021-04-21')\n",
    "browser.find_element_by_id('outWardTime').send_keys('09:30')\n",
    "browser.find_element_by_xpath('//*[@id=\"index-tab-01\"]/div/div[4]/div/button').send_keys('College Student')\n",
    "\n",
    "browser.find_element_by_id('start-search').click()\n",
    "sleep(8)\n",
    "soup = BeautifulSoup(browser.page_source, 'html.parser')\n",
    "# a=soup.find('a',{'class':'sr-only sr-only-focusable'})\n",
    "\n",
    "train_no=soup.find_all('div','tr-td train')\n",
    "print('train no:')\n",
    "for i in range(len(train_no)):\n",
    "    print(soup.find_all('div','tr-td train')[i].text)\n",
    "print('departure time:')\n",
    "for i in range(len(train_no)):\n",
    "    print(soup.find_all('span',{'class':'font-16r darkgray'})[i].text)\n",
    "for i in range(len(2*train_no)):\n",
    "    print(soup.find_all('span',{'class':'font-16r darkgray'})[i].text)\n",
    "# print('arrival time:')\n",
    "# print(browser.find_elements_by_class_name('tr-td')[3])\n",
    "# print(box.xpath('//*[@id=\"timeTableTrain_S\"]/a[1]/div[3]').extract()[0].strip()[:-3])\n",
    "print('duration:')\n",
    "for i in range(len(train_no)):\n",
    "    print(soup.find_all('div','traffic-time')[i].text)"
   ]
  },
  {
   "cell_type": "code",
   "execution_count": null,
   "metadata": {},
   "outputs": [],
   "source": []
  }
 ],
 "metadata": {
  "kernelspec": {
   "display_name": "Python 3",
   "language": "python",
   "name": "python3"
  },
  "language_info": {
   "codemirror_mode": {
    "name": "ipython",
    "version": 3
   },
   "file_extension": ".py",
   "mimetype": "text/x-python",
   "name": "python",
   "nbconvert_exporter": "python",
   "pygments_lexer": "ipython3",
   "version": "3.8.5"
  }
 },
 "nbformat": 4,
 "nbformat_minor": 4
}
